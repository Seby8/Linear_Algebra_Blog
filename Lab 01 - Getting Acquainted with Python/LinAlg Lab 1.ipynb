{
 "cells": [
  {
   "cell_type": "markdown",
   "metadata": {},
   "source": [
    "# Linear Algebra for CpE\n",
    "## Laboratory 1 : Setting up Anaconda and JupyterLab"
   ]
  },
  {
   "cell_type": "markdown",
   "metadata": {},
   "source": [
    "Wow! You have now successfully set up Jupyter Lab and Anaconda. Now don't worry if you don't know Python or using this file."
   ]
  },
  {
   "cell_type": "markdown",
   "metadata": {},
   "source": [
    "So first of all this file is called a Jupyter Notebook and we are organizing these notebooks with JupyterLab. All of these files in ipynb signfying it is an IPython notebook, an ineractive coding file."
   ]
  },
  {
   "cell_type": "markdown",
   "metadata": {},
   "source": [
    "### Parts"
   ]
  },
  {
   "cell_type": "markdown",
   "metadata": {},
   "source": [
    "We'll fill this up during the discussion"
   ]
  },
  {
   "cell_type": "markdown",
   "metadata": {},
   "source": [
    "### Cells"
   ]
  },
  {
   "cell_type": "markdown",
   "metadata": {},
   "source": [
    "Cells are very important elements in a jupyter notebook. There are three types of cell modes:\n",
    "<ul>\n",
    "    <li>Code — Code cells are input cells where you could type your code and run them <br>\n",
    "    <li>Markdown — are cells that does not run any code but could display text. These text can be formatted using HTML or LaTeX. <br>\n",
    "    <li>Raw — are cells that has no virtual use to our course, however it is used as an nbconvert command line. You can check it out more <a href=https://nbsphinx.readthedocs.io/en/0.3.1/raw-cells.html>here</a>. <br>\n",
    "</ul> \n",
    "\n",
    "For shortcuts you can check them out <a href=https://towardsdatascience.com/jypyter-notebook-shortcuts-bf0101a98330>here</a>."
   ]
  },
  {
   "cell_type": "markdown",
   "metadata": {},
   "source": [
    "### Shortcuts"
   ]
  },
  {
   "cell_type": "markdown",
   "metadata": {},
   "source": [
    "Run a cell and create a new cell after - Shift+Enter\n",
    "<br>Just run a cell and not create a new cell - Ctrl+Enter\n",
    "<br>Comment out lines - Ctrl+/\n",
    "<br>Go into markdown mode - Esc+M\n",
    "<br>(Markdown mode) Create a new cell above - A\n",
    "<br>(Markdown mode) Create a new cell below - B\n",
    "<br>(Markdown mode) Delete a cell - DD"
   ]
  },
  {
   "cell_type": "markdown",
   "metadata": {},
   "source": [
    "### Programming Review"
   ]
  },
  {
   "cell_type": "markdown",
   "metadata": {},
   "source": [
    "#### Variable Declaration"
   ]
  },
  {
   "cell_type": "markdown",
   "metadata": {},
   "source": [
    "In Python, data types are explicit or automatically determined based on the value. However the basic data types are:\n",
    "<ul>\n",
    "    <li>Text: str\n",
    "    <li>Numeric: int, float, complex\n",
    "    <li>Sequence: list, tuple, range\n",
    "    <li>Boolean: bool\n",
    "</ul>   "
   ]
  },
  {
   "cell_type": "code",
   "execution_count": 29,
   "metadata": {},
   "outputs": [],
   "source": [
    "## variable declaration\n",
    "\n",
    "number = 1000\n",
    "text = \"Hi Class\" "
   ]
  },
  {
   "cell_type": "markdown",
   "metadata": {},
   "source": [
    "#### Input and Output"
   ]
  },
  {
   "cell_type": "code",
   "execution_count": 38,
   "metadata": {},
   "outputs": [
    {
     "name": "stdout",
     "output_type": "stream",
     "text": [
      "Hi Class, I love you 1001\n",
      "Hi Class, I love you 1001\n"
     ]
    }
   ],
   "source": [
    "print(\"{}, I love you {}\".format(text, number+1))\n",
    "print(f\"{text}, I love you {number+1}\")"
   ]
  },
  {
   "cell_type": "code",
   "execution_count": 24,
   "metadata": {},
   "outputs": [],
   "source": [
    "number = 200"
   ]
  },
  {
   "cell_type": "markdown",
   "metadata": {},
   "source": [
    "#### Operations"
   ]
  },
  {
   "cell_type": "code",
   "execution_count": 49,
   "metadata": {},
   "outputs": [
    {
     "name": "stdout",
     "output_type": "stream",
     "text": [
      "The values are:\n",
      "\n",
      "Sum:\t\t25\n",
      "Difference:\t-5\n",
      "Product:\t150\n",
      "Quotient:\t0.6666666666666666\n",
      "Floor Quotient:\t0\n",
      "Power:\t\t1000000000000000\n",
      "Modulo:\t\t10\n"
     ]
    }
   ],
   "source": [
    "i,j = 10, 15\n",
    "total = i + j\n",
    "diff = i - j\n",
    "prod = i*j\n",
    "quot = i/j\n",
    "flrq = i//j #floor division\n",
    "powe = i**j\n",
    "mod = i%j\n",
    "\n",
    "print(f\"The values are:\\n\\nSum:\\t\\t{total}\\nDifference:\\t{diff}\\nProduct:\\t{prod}\\nQuotient:\\t{quot}\")\n",
    "print(f\"Floor Quotient:\\t{flrq}\\nPower:\\t\\t{powe}\\nModulo:\\t\\t{mod}\")"
   ]
  },
  {
   "cell_type": "code",
   "execution_count": 61,
   "metadata": {},
   "outputs": [
    {
     "name": "stdout",
     "output_type": "stream",
     "text": [
      "False\n"
     ]
    }
   ],
   "source": [
    "good, bad = True, False\n",
    "numeral1, numeral2, numeral3 = 10, 10.0, -10\n",
    "\n",
    "# print(good and bad)\n",
    "# print(good or bad)\n",
    "# print(good and not(bad))\n",
    "# print(not(good or bad))\n",
    "print(numeral1 is numeral2) ## 'is' is an equivalence operator"
   ]
  },
  {
   "cell_type": "markdown",
   "metadata": {},
   "source": [
    "#### Loops"
   ]
  },
  {
   "cell_type": "code",
   "execution_count": 73,
   "metadata": {},
   "outputs": [
    {
     "name": "stdout",
     "output_type": "stream",
     "text": [
      "0\t|\t10\n",
      "1\t|\t10\n",
      "2\t|\t10\n",
      "3\t|\t10\n",
      "4\t|\t10\n",
      "5\t|\t10\n",
      "6\t|\t10\n",
      "7\t|\t10\n",
      "8\t|\t10\n",
      "9\t|\t10\n",
      "10\t|\t10\n"
     ]
    }
   ],
   "source": [
    "## while loops\n",
    "i, j = 0, 10\n",
    "while(i<=j):\n",
    "    print(f\"{i}\\t|\\t{j}\")\n",
    "    i+=1"
   ]
  },
  {
   "cell_type": "code",
   "execution_count": 76,
   "metadata": {},
   "outputs": [
    {
     "name": "stdout",
     "output_type": "stream",
     "text": [
      "0\n",
      "1\n",
      "2\n",
      "3\n",
      "4\n",
      "5\n",
      "6\n",
      "7\n",
      "8\n",
      "9\n"
     ]
    }
   ],
   "source": [
    "# for(int i=0; i<10; i++){\n",
    "# printf(i)\n",
    "# }\n",
    "\n",
    "i=0\n",
    "for i in range(10):\n",
    "    print(i)"
   ]
  },
  {
   "cell_type": "code",
   "execution_count": 82,
   "metadata": {},
   "outputs": [
    {
     "name": "stdout",
     "output_type": "stream",
     "text": [
      "Now Playing:\n",
      "\n",
      "Despacito\n",
      "Renai Circulation\n",
      "Silhouette\n",
      "Next color planet\n",
      "Summertime\n"
     ]
    }
   ],
   "source": [
    "# fruits = ['Apple', 'Orange', 'Banana', 'Grapes', 'Mango']\n",
    "# for fruit in fruits:\n",
    "#     print(fruit)\n",
    "\n",
    "# toys = ['How Wheels', 'Megumin Figurine', 'GunPla', 'Noob Goddess Aqua', 'Barbie']\n",
    "# print(\"I play with: \")\n",
    "# for toy in toys:\n",
    "#     print(toy)\n",
    "\n",
    "playlist = ['Despacito',\"Renai Circulation\",\"Silhouette\",\"Next color planet\",\"Summertime\"]\n",
    "print('Now Playing:\\n')\n",
    "for song in playlist:\n",
    "    print(song)"
   ]
  },
  {
   "cell_type": "markdown",
   "metadata": {},
   "source": [
    "#### Flow Control"
   ]
  },
  {
   "cell_type": "code",
   "execution_count": 71,
   "metadata": {},
   "outputs": [
    {
     "name": "stdout",
     "output_type": "stream",
     "text": [
      "Yey\n",
      "Hip hip\n"
     ]
    }
   ],
   "source": [
    "## conditions\n",
    "numeral1, numeral2 = 12, 12\n",
    "if(numeral1 == numeral2):\n",
    "    print(\"Yey\")\n",
    "elif(numeral1>numeral2):\n",
    "    print(\"Hoho\")\n",
    "else:\n",
    "    print(\"Aww\")\n",
    "print(\"Hip hip\")"
   ]
  },
  {
   "cell_type": "markdown",
   "metadata": {},
   "source": [
    "#### Functions"
   ]
  },
  {
   "cell_type": "code",
   "execution_count": 86,
   "metadata": {},
   "outputs": [],
   "source": [
    "# void DeleteUser(int userid){\n",
    "#     delete(userid);\n",
    "# }\n",
    "\n",
    "def delete_user (userid):\n",
    "    print(\"Successfully deleted user: {}\".format(userid))\n",
    "    \n",
    "def delete_all_users ():\n",
    "    print(\"Successfully deleted all users\")"
   ]
  },
  {
   "cell_type": "code",
   "execution_count": 87,
   "metadata": {},
   "outputs": [
    {
     "name": "stdout",
     "output_type": "stream",
     "text": [
      "Successfully deleted user: 0\n",
      "Successfully deleted all users\n"
     ]
    }
   ],
   "source": [
    "userid = 0\n",
    "delete_user(0)\n",
    "delete_all_users()"
   ]
  },
  {
   "cell_type": "code",
   "execution_count": 92,
   "metadata": {},
   "outputs": [],
   "source": [
    "def add(addend1, addend2):\n",
    "    return addend1 + addend2\n",
    "\n",
    "def power_of_base2(exponent):\n",
    "    return 2**exponent"
   ]
  },
  {
   "cell_type": "code",
   "execution_count": 94,
   "metadata": {},
   "outputs": [
    {
     "data": {
      "text/plain": [
       "32"
      ]
     },
     "execution_count": 94,
     "metadata": {},
     "output_type": "execute_result"
    }
   ],
   "source": [
    "num1, num2 = 2, 5\n",
    "power_of_base2(num2)"
   ]
  },
  {
   "cell_type": "code",
   "execution_count": 96,
   "metadata": {},
   "outputs": [
    {
     "name": "stdout",
     "output_type": "stream",
     "text": [
      "1\n",
      "2\n",
      "4\n",
      "8\n",
      "16\n",
      "32\n",
      "64\n",
      "128\n",
      "256\n",
      "512\n"
     ]
    }
   ],
   "source": [
    "for n in range(0,10):\n",
    "    print(power_of_base2(n))"
   ]
  }
 ],
 "metadata": {
  "kernelspec": {
   "display_name": "Python 3",
   "language": "python",
   "name": "python3"
  },
  "language_info": {
   "codemirror_mode": {
    "name": "ipython",
    "version": 3
   },
   "file_extension": ".py",
   "mimetype": "text/x-python",
   "name": "python",
   "nbconvert_exporter": "python",
   "pygments_lexer": "ipython3",
   "version": "3.8.3"
  }
 },
 "nbformat": 4,
 "nbformat_minor": 4
}
