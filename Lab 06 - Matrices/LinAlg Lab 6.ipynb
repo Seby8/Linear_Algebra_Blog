{
 "cells": [
  {
   "cell_type": "markdown",
   "metadata": {},
   "source": [
    "# Linear Algebra for CpE\n",
    "## Laboratory 6 : Matrices"
   ]
  },
  {
   "cell_type": "markdown",
   "metadata": {},
   "source": [
    "Now that you have a fundamental knowledge about vector representations, we'll try to look into greater dimensions."
   ]
  },
  {
   "cell_type": "markdown",
   "metadata": {},
   "source": [
    "### Objectives\n",
    "At the end of this activity you will be able to:\n",
    "1. Be familiar with matrices and their relation to linear equations.\n",
    "2. Perform basic matrix operations.\n",
    "3. Program and translate matrix equations and operations using Python."
   ]
  },
  {
   "cell_type": "markdown",
   "metadata": {},
   "source": [
    "# Discussion"
   ]
  },
  {
   "cell_type": "code",
   "execution_count": 1,
   "metadata": {},
   "outputs": [],
   "source": [
    "import numpy as np\n",
    "import matplotlib.pyplot as plt\n",
    "import scipy.linalg as la\n",
    "%matplotlib inline"
   ]
  },
  {
   "cell_type": "markdown",
   "metadata": {},
   "source": [
    "### Matrices"
   ]
  },
  {
   "cell_type": "markdown",
   "metadata": {},
   "source": [
    "The notation and use of matrices is probably one of the fundamentals of modern computing. Matrices are also handy representations of complex equations or multiple inter-related equations from 2-dimensional equations to even hundreds and thousands of them."
   ]
  },
  {
   "cell_type": "markdown",
   "metadata": {},
   "source": [
    "Let's say for example you have $A$ and $B$ as system of equation."
   ]
  },
  {
   "cell_type": "markdown",
   "metadata": {},
   "source": [
    "$$\n",
    "A = \\left\\{\n",
    "    \\begin{array}\\\\\n",
    "        x + y \\\\ \n",
    "        4x - 10y\n",
    "    \\end{array}\n",
    "\\right. \\\\\n",
    "B = \\left\\{\n",
    "    \\begin{array}\\\\\n",
    "        x+y+z \\\\ \n",
    "        3x -2y -z \\\\\n",
    "        -x + 4y +2z\n",
    "    \\end{array}\n",
    "\\right. $$"
   ]
  },
  {
   "cell_type": "markdown",
   "metadata": {},
   "source": [
    "We could see that $A$ is a system of 2 equations with 2 parameters. While $B$ is a system of 3 equations with 3 parameters. We can represent them as matrices as:"
   ]
  },
  {
   "cell_type": "markdown",
   "metadata": {},
   "source": [
    "$$\n",
    "A=\\begin{bmatrix} 1 & 1 \\\\ 4 & {-10}\\end{bmatrix} \\\\\n",
    "B=\\begin{bmatrix} 1 & 1 & 1 \\\\ 3 & -2 & -1 \\\\ -1 & 4 & 2\\end{bmatrix}\n",
    "$$"
   ]
  },
  {
   "cell_type": "markdown",
   "metadata": {},
   "source": [
    "So assuming that you already discussed the fundamental representation of matrices, their types, and operations. We'll proceed in doing them in here in Python."
   ]
  },
  {
   "cell_type": "markdown",
   "metadata": {},
   "source": [
    "### Declaring Matrices"
   ]
  },
  {
   "cell_type": "markdown",
   "metadata": {},
   "source": [
    "Just like our previous laboratory activity, we'll represent system of linear equations as a matrix. The entities or numbers in matrices are called the elements of a matrix. These elements are arranged and ordered in rows and columns which form the list/array-like structure of matrices. And just like arrays, these elements are indexed according to their position with respect to their rows and columns. This can be reprsented just like the equation below. Whereas $A$ is a matrix consisting of elements denoted by $a_{i,j}$. Denoted by $i$ is the number of rows in the matrix while $j$ stands for the number of columns.<br>\n",
    "Do note that the $size$ of a matrix is $i\\times j$."
   ]
  },
  {
   "cell_type": "markdown",
   "metadata": {},
   "source": [
    "$$A=\\begin{bmatrix}\n",
    "a_{(0,0)}&a_{(0,1)}&\\dots&a_{(0,j-1)}\\\\\n",
    "a_{(1,0)}&a_{(1,1)}&\\dots&a_{(1,j-1)}\\\\\n",
    "\\vdots&\\vdots&\\ddots&\\vdots&\\\\\n",
    "a_{(i-1,0)}&a_{(i-1,1)}&\\dots&a_{(i-1,j-1)}\n",
    "\\end{bmatrix}\n",
    "$$"
   ]
  },
  {
   "cell_type": "markdown",
   "metadata": {},
   "source": [
    "We already gone over some of the types of matrices as vectors but we'll further discuss them in this laboratory activity. Since you already know how to describe vectors using <b>shape</b>, <b>dimensions</b> and <b>size</b> attributes, we'll use them to analyze these matrices."
   ]
  },
  {
   "cell_type": "code",
   "execution_count": 3,
   "metadata": {},
   "outputs": [],
   "source": [
    "## Since we'll keep on describing matrices. Let's make a function.\n",
    "def describe_mat(matrix):\n",
    "    print(f'Matrix:\\n{matrix}\\n\\nShape:\\t{matrix.shape}\\nRank:\\t{matrix.ndim}\\n')"
   ]
  },
  {
   "cell_type": "code",
   "execution_count": 3,
   "metadata": {},
   "outputs": [
    {
     "name": "stdout",
     "output_type": "stream",
     "text": [
      "Matrix:\n",
      "[[1 2]\n",
      " [3 1]]\n",
      "\n",
      "Shape:\t(2, 2)\n",
      "Rank:\t2\n",
      "\n"
     ]
    }
   ],
   "source": [
    "## Declaring a 2 x 2 matrix\n",
    "A = np.array([\n",
    "    [1, 2],\n",
    "    [3, 1]\n",
    "])\n",
    "describe_mat(A)"
   ]
  },
  {
   "cell_type": "code",
   "execution_count": 5,
   "metadata": {},
   "outputs": [
    {
     "name": "stdout",
     "output_type": "stream",
     "text": [
      "Matrix:\n",
      "[[1 1]\n",
      " [2 2]]\n",
      "\n",
      "Shape:\t(2, 2)\n",
      "Rank:\t2\n",
      "\n"
     ]
    }
   ],
   "source": [
    "G = np.array([\n",
    "    [1,1],\n",
    "    [2,2]\n",
    "])\n",
    "describe_mat(G)"
   ]
  },
  {
   "cell_type": "code",
   "execution_count": 6,
   "metadata": {},
   "outputs": [
    {
     "name": "stdout",
     "output_type": "stream",
     "text": [
      "Matrix:\n",
      "[[8 2]\n",
      " [5 4]\n",
      " [1 1]]\n",
      "\n",
      "Shape:\t(3, 2)\n",
      "Rank:\t2\n",
      "\n"
     ]
    }
   ],
   "source": [
    "## Declaring a 3 x 2 matrix\n",
    "B = np.array([\n",
    "    [8, 2],\n",
    "    [5, 4],\n",
    "    [1, 1]\n",
    "])\n",
    "describe_mat(B)"
   ]
  },
  {
   "cell_type": "code",
   "execution_count": 8,
   "metadata": {},
   "outputs": [
    {
     "name": "stdout",
     "output_type": "stream",
     "text": [
      "Matrix:\n",
      "[1 2 3 4 5]\n",
      "\n",
      "Shape:\t(5,)\n",
      "Rank:\t1\n",
      "\n"
     ]
    }
   ],
   "source": [
    "H = np.array([1,2,3,4,5])\n",
    "describe_mat(H)"
   ]
  },
  {
   "cell_type": "markdown",
   "metadata": {},
   "source": [
    "## Categorizing Matrices"
   ]
  },
  {
   "cell_type": "markdown",
   "metadata": {},
   "source": [
    "There are several ways of classifying matrices. Once could be according to their <b>shape</b> and another is according to their <b>element values</b>. We'll try to go through them."
   ]
  },
  {
   "cell_type": "markdown",
   "metadata": {},
   "source": [
    "### According to shape"
   ]
  },
  {
   "cell_type": "markdown",
   "metadata": {},
   "source": [
    "#### Row and Column Matrices"
   ]
  },
  {
   "cell_type": "markdown",
   "metadata": {},
   "source": [
    "Row and column matrices are common in vector and matrix computations. They can also represent row and column spaces of a bigger vector space. Row and column matrices are represented by a single column or single row. So with that being, the shape of row matrices would be $1 \\times j$ and column matrices would be $i \\times 1$."
   ]
  },
  {
   "cell_type": "code",
   "execution_count": 10,
   "metadata": {},
   "outputs": [
    {
     "name": "stdout",
     "output_type": "stream",
     "text": [
      "Matrix:\n",
      "[1 3 2]\n",
      "\n",
      "Shape:\t(3,)\n",
      "Rank:\t1\n",
      "\n",
      "Matrix:\n",
      "[[1 2 3]]\n",
      "\n",
      "Shape:\t(1, 3)\n",
      "Rank:\t2\n",
      "\n"
     ]
    }
   ],
   "source": [
    "## Declaring a Row Matrix\n",
    "\n",
    "row_mat_1D = np.array([\n",
    "    1, 3, 2\n",
    "]) ## this is a 1-D Matrix with a shape of (3,), it's not really considered as a row matrix.\n",
    "row_mat_2D = np.array([\n",
    "    [1,2,3]\n",
    "]) ## this is a 2-D Matrix with a shape of (1,3)\n",
    "describe_mat(row_mat_1D)\n",
    "describe_mat(row_mat_2D)"
   ]
  },
  {
   "cell_type": "code",
   "execution_count": 11,
   "metadata": {},
   "outputs": [
    {
     "name": "stdout",
     "output_type": "stream",
     "text": [
      "Matrix:\n",
      "[[1]\n",
      " [2]\n",
      " [5]]\n",
      "\n",
      "Shape:\t(3, 1)\n",
      "Rank:\t2\n",
      "\n"
     ]
    }
   ],
   "source": [
    "## Declaring a Column Matrix\n",
    "\n",
    "col_mat = np.array([\n",
    "    [1],\n",
    "    [2],\n",
    "    [5]\n",
    "]) ## this is a 2-D Matrix with a shape of (3,1)\n",
    "describe_mat(col_mat)"
   ]
  },
  {
   "cell_type": "markdown",
   "metadata": {},
   "source": [
    "#### Square Matrices"
   ]
  },
  {
   "cell_type": "markdown",
   "metadata": {},
   "source": [
    "Square matrices are matrices that have the same row and column sizes. We could say a matrix is square if $i = j$. We can tweak our matrix descriptor function to determine square matrices."
   ]
  },
  {
   "cell_type": "code",
   "execution_count": 12,
   "metadata": {},
   "outputs": [],
   "source": [
    "def describe_mat(matrix):\n",
    "    is_square = True if matrix.shape[0] == matrix.shape[1] else False \n",
    "    print(f'Matrix:\\n{matrix}\\n\\nShape:\\t{matrix.shape}\\nRank:\\t{matrix.ndim}\\nIs Square: {is_square}\\n')"
   ]
  },
  {
   "cell_type": "code",
   "execution_count": 22,
   "metadata": {},
   "outputs": [
    {
     "name": "stdout",
     "output_type": "stream",
     "text": [
      "Matrix:\n",
      "[[1 2 5]\n",
      " [3 3 8]\n",
      " [6 1 2]]\n",
      "\n",
      "Shape:\t(3, 3)\n",
      "Rank:\t2\n",
      "Is Square: True\n",
      "\n",
      "Matrix:\n",
      "[[1 2 5]\n",
      " [3 3 8]]\n",
      "\n",
      "Shape:\t(2, 3)\n",
      "Rank:\t2\n",
      "Is Square: False\n",
      "\n"
     ]
    }
   ],
   "source": [
    "square_mat = np.array([\n",
    "    [1,2,5],\n",
    "    [3,3,8],\n",
    "    [6,1,2]\n",
    "])\n",
    "\n",
    "non_square_mat = np.array([\n",
    "    [1,2,5],\n",
    "    [3,3,8]\n",
    "])\n",
    "describe_mat(square_mat)\n",
    "describe_mat(non_square_mat)"
   ]
  },
  {
   "cell_type": "markdown",
   "metadata": {},
   "source": [
    "### According to element values"
   ]
  },
  {
   "cell_type": "markdown",
   "metadata": {},
   "source": [
    "#### Null Matrix"
   ]
  },
  {
   "cell_type": "markdown",
   "metadata": {},
   "source": [
    "A Null Matrix is a matrix that has no elements. It is always a subspace of any vector or matrix."
   ]
  },
  {
   "cell_type": "code",
   "execution_count": 25,
   "metadata": {},
   "outputs": [],
   "source": [
    "def describe_mat(matrix):\n",
    "    if matrix.size > 0:\n",
    "        is_square = True if matrix.shape[0] == matrix.shape[1] else False \n",
    "        print(f'Matrix:\\n{matrix}\\n\\nShape:\\t{matrix.shape}\\nRank:\\t{matrix.ndim}\\nIs Square: {is_square}\\n')\n",
    "    else:\n",
    "        print('Matrix is Null')"
   ]
  },
  {
   "cell_type": "code",
   "execution_count": 26,
   "metadata": {},
   "outputs": [
    {
     "name": "stdout",
     "output_type": "stream",
     "text": [
      "Matrix is Null\n"
     ]
    }
   ],
   "source": [
    "null_mat = np.array([])\n",
    "describe_mat(null_mat)"
   ]
  },
  {
   "cell_type": "markdown",
   "metadata": {},
   "source": [
    "#### Zero Matrix"
   ]
  },
  {
   "cell_type": "markdown",
   "metadata": {},
   "source": [
    "A zero matrix can be any rectangular matrix but with all elements having a value of 0."
   ]
  },
  {
   "cell_type": "code",
   "execution_count": 27,
   "metadata": {},
   "outputs": [
    {
     "name": "stdout",
     "output_type": "stream",
     "text": [
      "Zero Row Matrix: \n",
      "[[0. 0.]]\n",
      "Zero Square Matrix: \n",
      "[[0. 0.]\n",
      " [0. 0.]]\n",
      "Zero Rectangular Matrix: \n",
      "[[0. 0.]\n",
      " [0. 0.]\n",
      " [0. 0.]]\n"
     ]
    }
   ],
   "source": [
    "zero_mat_row = np.zeros((1,2))\n",
    "zero_mat_sqr = np.zeros((2,2))\n",
    "zero_mat_rct = np.zeros((3,2))\n",
    "\n",
    "print(f'Zero Row Matrix: \\n{zero_mat_row}')\n",
    "print(f'Zero Square Matrix: \\n{zero_mat_sqr}')\n",
    "print(f'Zero Rectangular Matrix: \\n{zero_mat_rct}')"
   ]
  },
  {
   "cell_type": "markdown",
   "metadata": {},
   "source": [
    "#### Ones Matrix"
   ]
  },
  {
   "cell_type": "markdown",
   "metadata": {},
   "source": [
    "A ones matrix, just like the zero matrix, can be any rectangular matrix but all of its elements are 1s instead of 0s."
   ]
  },
  {
   "cell_type": "code",
   "execution_count": 16,
   "metadata": {},
   "outputs": [
    {
     "name": "stdout",
     "output_type": "stream",
     "text": [
      "Ones Row Matrix: \n",
      "[[1. 1.]]\n",
      "Ones Square Matrix: \n",
      "[[1. 1.]\n",
      " [1. 1.]]\n",
      "Ones Rectangular Matrix: \n",
      "[[1. 1.]\n",
      " [1. 1.]\n",
      " [1. 1.]]\n"
     ]
    }
   ],
   "source": [
    "ones_mat_row = np.ones((1,2))\n",
    "ones_mat_sqr = np.ones((2,2))\n",
    "ones_mat_rct = np.ones((3,2))\n",
    "\n",
    "print(f'Ones Row Matrix: \\n{ones_mat_row}')\n",
    "print(f'Ones Square Matrix: \\n{ones_mat_sqr}')\n",
    "print(f'Ones Rectangular Matrix: \\n{ones_mat_rct}')"
   ]
  },
  {
   "cell_type": "markdown",
   "metadata": {},
   "source": [
    "#### Diagonal Matrix"
   ]
  },
  {
   "cell_type": "markdown",
   "metadata": {},
   "source": [
    "A diagonal matrix is a square matrix that has values only at the diagonal of the matrix. "
   ]
  },
  {
   "cell_type": "code",
   "execution_count": 24,
   "metadata": {},
   "outputs": [
    {
     "data": {
      "text/plain": [
       "array([[2, 0, 0],\n",
       "       [0, 3, 0],\n",
       "       [0, 0, 5]])"
      ]
     },
     "execution_count": 24,
     "metadata": {},
     "output_type": "execute_result"
    }
   ],
   "source": [
    "np.array([\n",
    "    [2,0,0],\n",
    "    [0,3,0],\n",
    "    [0,0,5]\n",
    "])\n",
    "# a[1,1], a[2,2], a[3,3], ... a[n-1,n-1]"
   ]
  },
  {
   "cell_type": "code",
   "execution_count": 4,
   "metadata": {},
   "outputs": [
    {
     "data": {
      "text/plain": [
       "array([[2, 0, 0, 0],\n",
       "       [0, 3, 0, 0],\n",
       "       [0, 0, 5, 0],\n",
       "       [0, 0, 0, 7]])"
      ]
     },
     "execution_count": 4,
     "metadata": {},
     "output_type": "execute_result"
    }
   ],
   "source": [
    "d = np.diag([2,3,5,7])\n",
    "#np.diag(d).shape == d.shape[0] == d.shape[1]\n",
    "d"
   ]
  },
  {
   "cell_type": "markdown",
   "metadata": {},
   "source": [
    "#### Identity Matrix"
   ]
  },
  {
   "cell_type": "markdown",
   "metadata": {},
   "source": [
    "An identity matrix is a special diagonal matrix in which the values at the diagonal are ones."
   ]
  },
  {
   "cell_type": "code",
   "execution_count": 34,
   "metadata": {},
   "outputs": [
    {
     "data": {
      "text/plain": [
       "array([[1., 0., 0., 0., 0.],\n",
       "       [0., 1., 0., 0., 0.],\n",
       "       [0., 0., 1., 0., 0.],\n",
       "       [0., 0., 0., 1., 0.],\n",
       "       [0., 0., 0., 0., 1.]])"
      ]
     },
     "execution_count": 34,
     "metadata": {},
     "output_type": "execute_result"
    }
   ],
   "source": [
    "np.eye(5)"
   ]
  },
  {
   "cell_type": "code",
   "execution_count": 35,
   "metadata": {},
   "outputs": [
    {
     "data": {
      "text/plain": [
       "array([[1., 0., 0., 0., 0.],\n",
       "       [0., 1., 0., 0., 0.],\n",
       "       [0., 0., 1., 0., 0.],\n",
       "       [0., 0., 0., 1., 0.],\n",
       "       [0., 0., 0., 0., 1.]])"
      ]
     },
     "execution_count": 35,
     "metadata": {},
     "output_type": "execute_result"
    }
   ],
   "source": [
    "np.identity(5)"
   ]
  },
  {
   "cell_type": "markdown",
   "metadata": {},
   "source": [
    "#### Upper Triangular Matrix"
   ]
  },
  {
   "cell_type": "markdown",
   "metadata": {},
   "source": [
    "An upper triangular matrix is a matrix that has no values below the diagonal. "
   ]
  },
  {
   "cell_type": "code",
   "execution_count": 36,
   "metadata": {},
   "outputs": [
    {
     "data": {
      "text/plain": [
       "array([[1, 2, 3],\n",
       "       [0, 3, 1],\n",
       "       [0, 0, 5]])"
      ]
     },
     "execution_count": 36,
     "metadata": {},
     "output_type": "execute_result"
    }
   ],
   "source": [
    "np.array([\n",
    "    [1,2,3],\n",
    "    [0,3,1],\n",
    "    [0,0,5]\n",
    "])"
   ]
  },
  {
   "cell_type": "markdown",
   "metadata": {},
   "source": [
    "#### Lower Triangular Matrix"
   ]
  },
  {
   "cell_type": "markdown",
   "metadata": {},
   "source": [
    "A lower triangular matrix is a matrix that has no values above the diagonal."
   ]
  },
  {
   "cell_type": "code",
   "execution_count": 37,
   "metadata": {},
   "outputs": [
    {
     "data": {
      "text/plain": [
       "array([[1, 0, 0],\n",
       "       [5, 3, 0],\n",
       "       [7, 8, 5]])"
      ]
     },
     "execution_count": 37,
     "metadata": {},
     "output_type": "execute_result"
    }
   ],
   "source": [
    "np.array([\n",
    "    [1,0,0],\n",
    "    [5,3,0],\n",
    "    [7,8,5]\n",
    "])"
   ]
  },
  {
   "cell_type": "markdown",
   "metadata": {},
   "source": [
    "## Practice"
   ]
  },
  {
   "cell_type": "markdown",
   "metadata": {},
   "source": [
    "1. Given the linear combination below, try to create a corresponding matrix representing it."
   ]
  },
  {
   "cell_type": "markdown",
   "metadata": {},
   "source": [
    "$$\\theta = 5x + 3y - z$$"
   ]
  },
  {
   "cell_type": "code",
   "execution_count": 38,
   "metadata": {},
   "outputs": [
    {
     "name": "stdout",
     "output_type": "stream",
     "text": [
      "Matrix:\n",
      "[[ 5  3 -1]]\n",
      "\n",
      "Shape:\t(1, 3)\n",
      "Rank:\t2\n",
      "Is Square: False\n",
      "\n"
     ]
    }
   ],
   "source": [
    "theta = np.array([\n",
    "              [5,3,-1],\n",
    "])\n",
    "describe_mat(theta)"
   ]
  },
  {
   "cell_type": "markdown",
   "metadata": {},
   "source": [
    "2. Given the system of linear combinations below, try to encode it as a matrix. Also describe the matrix."
   ]
  },
  {
   "cell_type": "markdown",
   "metadata": {},
   "source": [
    "$$\n",
    "A = \\left\\{\\begin{array}\n",
    "5x_1 + 2x_2 +x_3\\\\\n",
    "4x_2 - x_3\\\\\n",
    "10x_3\n",
    "\\end{array}\\right.\n",
    "$$"
   ]
  },
  {
   "cell_type": "code",
   "execution_count": 39,
   "metadata": {},
   "outputs": [
    {
     "name": "stdout",
     "output_type": "stream",
     "text": [
      "Matrix:\n",
      "[[ 1  2  1]\n",
      " [ 0  4 -1]\n",
      " [ 0  0 10]]\n",
      "\n",
      "Shape:\t(3, 3)\n",
      "Rank:\t2\n",
      "Is Square: True\n",
      "\n"
     ]
    }
   ],
   "source": [
    "number2_mat = np.array([\n",
    "             [1,2,1],\n",
    "             [0,4,-1],\n",
    "             [0,0,10]\n",
    "])\n",
    "describe_mat(number2_mat)"
   ]
  },
  {
   "cell_type": "markdown",
   "metadata": {},
   "source": [
    "3. Given the matrix below, express it as a linear combination in a markdown."
   ]
  },
  {
   "cell_type": "code",
   "execution_count": 41,
   "metadata": {},
   "outputs": [],
   "source": [
    "G = np.array([\n",
    "    [1,7,8],\n",
    "    [2,2,2],\n",
    "    [4,6,7]\n",
    "])\n"
   ]
  },
  {
   "cell_type": "markdown",
   "metadata": {},
   "source": [
    "$$G = \n",
    "\\begin{bmatrix}1&7&8\\\\2&2&2\\\\4&6&7\n",
    "\\end{bmatrix}$$"
   ]
  },
  {
   "cell_type": "markdown",
   "metadata": {},
   "source": [
    "$$G=\\left\\{\\begin{array} 1g_1+7g_2+8g_3 \\\\2g_1+2g_2+2g_3\\\\4g_1+6g_2+7g_3\n",
    "\\end{array}\\right.$$"
   ]
  },
  {
   "cell_type": "markdown",
   "metadata": {},
   "source": [
    "4. Given the matrix below, display the output as a LaTeX makdown also express it as a system of linear combinations."
   ]
  },
  {
   "cell_type": "code",
   "execution_count": 42,
   "metadata": {},
   "outputs": [
    {
     "data": {
      "text/plain": [
       "array([[1, 0, 0],\n",
       "       [2, 2, 0],\n",
       "       [4, 6, 7]])"
      ]
     },
     "execution_count": 42,
     "metadata": {},
     "output_type": "execute_result"
    }
   ],
   "source": [
    "H = np.tril(G)\n",
    "H"
   ]
  },
  {
   "cell_type": "markdown",
   "metadata": {},
   "source": [
    "$$\n",
    "H = \\left\\{\\begin{array}\n",
    "1x_1\\\\\n",
    "2x_1+ 2y_2\\\\\n",
    "4x_1+ 6y_2 +7z_3\n",
    "\\end{array}\\right.\n",
    "$$"
   ]
  },
  {
   "cell_type": "markdown",
   "metadata": {},
   "source": [
    "$$\\begin{equation*}\n",
    "H = \n",
    "\\begin{bmatrix}\n",
    "1 & 0 & 0 \\\\\n",
    "2 & 2 & 0 \\\\\n",
    "4 & 6 & 7\n",
    "\\end{bmatrix}\n",
    "\\end{equation*}$$"
   ]
  },
  {
   "cell_type": "markdown",
   "metadata": {},
   "source": [
    "# Matrix Algebra"
   ]
  },
  {
   "cell_type": "markdown",
   "metadata": {},
   "source": [
    "### Addition"
   ]
  },
  {
   "cell_type": "code",
   "execution_count": 48,
   "metadata": {},
   "outputs": [
    {
     "data": {
      "text/plain": [
       "array([[3, 4],\n",
       "       [2, 3],\n",
       "       [5, 2]])"
      ]
     },
     "execution_count": 48,
     "metadata": {},
     "output_type": "execute_result"
    }
   ],
   "source": [
    "A = np.array([\n",
    "    [1,2],\n",
    "    [2,3],\n",
    "    [4,1]\n",
    "])\n",
    "B = np.array([\n",
    "    [2,2],\n",
    "    [0,0],\n",
    "    [1,1]\n",
    "])\n",
    "A+B"
   ]
  },
  {
   "cell_type": "code",
   "execution_count": 54,
   "metadata": {},
   "outputs": [
    {
     "data": {
      "text/plain": [
       "array([[3, 4],\n",
       "       [4, 5],\n",
       "       [6, 3]])"
      ]
     },
     "execution_count": 54,
     "metadata": {},
     "output_type": "execute_result"
    }
   ],
   "source": [
    "2+A ##Broadcasting\n",
    "# 2*np.ones(A.shape)+A"
   ]
  },
  {
   "cell_type": "markdown",
   "metadata": {},
   "source": [
    "### Subtraction"
   ]
  },
  {
   "cell_type": "code",
   "execution_count": 49,
   "metadata": {
    "jupyter": {
     "outputs_hidden": true
    }
   },
   "outputs": [
    {
     "data": {
      "text/plain": [
       "array([[-1,  0],\n",
       "       [ 2,  3],\n",
       "       [ 3,  0]])"
      ]
     },
     "execution_count": 49,
     "metadata": {},
     "output_type": "execute_result"
    }
   ],
   "source": [
    "A-B"
   ]
  },
  {
   "cell_type": "code",
   "execution_count": 59,
   "metadata": {},
   "outputs": [
    {
     "data": {
      "text/plain": [
       "array([[ True,  True],\n",
       "       [ True,  True],\n",
       "       [ True,  True]])"
      ]
     },
     "execution_count": 59,
     "metadata": {},
     "output_type": "execute_result"
    }
   ],
   "source": [
    "3-B == 3*np.ones(B.shape)-B"
   ]
  },
  {
   "cell_type": "markdown",
   "metadata": {},
   "source": [
    "### Element-wise Multiplication"
   ]
  },
  {
   "cell_type": "code",
   "execution_count": 67,
   "metadata": {},
   "outputs": [
    {
     "data": {
      "text/plain": [
       "array([[2, 4],\n",
       "       [0, 0],\n",
       "       [4, 1]])"
      ]
     },
     "execution_count": 67,
     "metadata": {},
     "output_type": "execute_result"
    }
   ],
   "source": [
    "A*B\n",
    "np.multiply(A,B)"
   ]
  },
  {
   "cell_type": "code",
   "execution_count": 60,
   "metadata": {},
   "outputs": [
    {
     "data": {
      "text/plain": [
       "array([[2, 4],\n",
       "       [4, 6],\n",
       "       [8, 2]])"
      ]
     },
     "execution_count": 60,
     "metadata": {},
     "output_type": "execute_result"
    }
   ],
   "source": [
    "2*A"
   ]
  },
  {
   "cell_type": "code",
   "execution_count": 64,
   "metadata": {},
   "outputs": [
    {
     "data": {
      "text/plain": [
       "array([[5.e-01, 1.e+00],\n",
       "       [2.e+10, 3.e+10],\n",
       "       [4.e+00, 1.e+00]])"
      ]
     },
     "execution_count": 64,
     "metadata": {},
     "output_type": "execute_result"
    }
   ],
   "source": [
    "alpha=10**-10\n",
    "A/(alpha+B)"
   ]
  },
  {
   "cell_type": "code",
   "execution_count": 66,
   "metadata": {},
   "outputs": [
    {
     "data": {
      "text/plain": [
       "array([[3, 4],\n",
       "       [2, 3],\n",
       "       [5, 2]])"
      ]
     },
     "execution_count": 66,
     "metadata": {},
     "output_type": "execute_result"
    }
   ],
   "source": [
    "np.add(A,B)"
   ]
  },
  {
   "cell_type": "markdown",
   "metadata": {},
   "source": [
    "## Activity"
   ]
  },
  {
   "cell_type": "markdown",
   "metadata": {},
   "source": [
    "### Task 1"
   ]
  },
  {
   "cell_type": "markdown",
   "metadata": {},
   "source": [
    "Create a function named `mat_desc()` that througouhly describes a matrix, it should: <br>\n",
    "1. Displays the shape, size, and rank of the matrix. <br>\n",
    "2. Displays whether the matrix is square or non-square. <br>\n",
    "3. Displays whether the matrix is an empty matrix. <br>\n",
    "4. Displays if the matrix is an identity, ones, or zeros matrix <br>\n",
    "   \n",
    "Use 5 sample matrices in which their shapes are not lower than $(3,3)$.\n",
    "In your methodology, create a flowchart discuss the functions and methods you have done. Present your results in the results section showing the description of each matrix you have declared."
   ]
  },
  {
   "cell_type": "code",
   "execution_count": 63,
   "metadata": {},
   "outputs": [],
   "source": [
    "def mat_desc(matrix): # Function of the Matrices\n",
    "    Identity = np.eye(4) # It is a Identity Matrix\n",
    "    if matrix.size > 0: # Condition if the size of matrix is greater than 0\n",
    "        is_square = \"Matrix is a square\" if matrix.shape[0] == matrix.shape[1] else \"Matrix isn't a square\" #Condition if the\n",
    "                                                                                             # shape of the matrices are equal\n",
    "        print(f'Matrix:\\n{matrix}\\n\\nShape:\\t{matrix.shape}\\nSize:\\t{matrix.size}\\\n",
    "              \\nRank:\\t{matrix.ndim}\\nIs Square: {is_square}\\n') # It Display the shape,size,rank of the matrix \n",
    "        zeros = True if np.any(matrix == 0) else False # Condition if the matrix is equal to zero then it's a zero matrix\n",
    "        ones = True if np.any(matrix == 1) else False # Condition if the matrix is equal to one then it's a ones matrix\n",
    "        identity = True if np.any(matrix == Identity) else False #Condition if the matrix is equal to the given identity then \n",
    "                                                                 #it's a identity matrix\n",
    "        print(f'Zeros: {zeros}') # It display the condition of the zeros\n",
    "        print(f'Ones: {ones}') # It display the condition of the ones\n",
    "        print(f'Identity: {identity}') # It display the condition of the identity\n",
    "    else:\n",
    "        print('Matrix is Null') # It display if the given matrix is an empty matrix"
   ]
  },
  {
   "cell_type": "code",
   "execution_count": 64,
   "metadata": {},
   "outputs": [],
   "source": [
    "sample_1 = np.array([\n",
    "    [2,4,5,6],\n",
    "    [7,3,5,2],\n",
    "    [2,1,4,7],\n",
    "    [5,6,8,2]\n",
    "])                            # First sample matrices 4x4 matrix \n",
    "\n",
    "sample_2 = np.array([\n",
    "    [2,4,5,6],\n",
    "    [0,3,5,2],\n",
    "    [0,0,4,7],\n",
    "    [0,0,0,2]\n",
    "])                            # Second sample matrices Upper Triangular Matrix\n",
    "\n",
    "sample_3 = np.eye((4))        # Third sample matrices identity matrix\n",
    "\n",
    "sample_4 = np.zeros((4,4))    # Fourth sample matrices zeros matrix\n",
    "\n",
    "sample_5 = np.array([])       # Fifth sample matrices null matrix"
   ]
  },
  {
   "cell_type": "code",
   "execution_count": 65,
   "metadata": {},
   "outputs": [
    {
     "name": "stdout",
     "output_type": "stream",
     "text": [
      "Sample_1\n",
      "Matrix:\n",
      "[[2 4 5 6]\n",
      " [7 3 5 2]\n",
      " [2 1 4 7]\n",
      " [5 6 8 2]]\n",
      "\n",
      "Shape:\t(4, 4)\n",
      "Size:\t16              \n",
      "Rank:\t2\n",
      "Is Square: Matrix is a square\n",
      "\n",
      "Zeros: False\n",
      "Ones: True\n",
      "Identity: False\n",
      "\n",
      "Sample_2\n",
      "Matrix:\n",
      "[[2 4 5 6]\n",
      " [0 3 5 2]\n",
      " [0 0 4 7]\n",
      " [0 0 0 2]]\n",
      "\n",
      "Shape:\t(4, 4)\n",
      "Size:\t16              \n",
      "Rank:\t2\n",
      "Is Square: Matrix is a square\n",
      "\n",
      "Zeros: True\n",
      "Ones: False\n",
      "Identity: True\n",
      "\n",
      "Sample_3\n",
      "Matrix:\n",
      "[[1. 0. 0. 0.]\n",
      " [0. 1. 0. 0.]\n",
      " [0. 0. 1. 0.]\n",
      " [0. 0. 0. 1.]]\n",
      "\n",
      "Shape:\t(4, 4)\n",
      "Size:\t16              \n",
      "Rank:\t2\n",
      "Is Square: Matrix is a square\n",
      "\n",
      "Zeros: True\n",
      "Ones: True\n",
      "Identity: True\n",
      "\n",
      "Sample_4\n",
      "Matrix:\n",
      "[[0. 0. 0. 0.]\n",
      " [0. 0. 0. 0.]\n",
      " [0. 0. 0. 0.]\n",
      " [0. 0. 0. 0.]]\n",
      "\n",
      "Shape:\t(4, 4)\n",
      "Size:\t16              \n",
      "Rank:\t2\n",
      "Is Square: Matrix is a square\n",
      "\n",
      "Zeros: True\n",
      "Ones: False\n",
      "Identity: True\n",
      "\n",
      "Sample_5\n",
      "Matrix is Null\n"
     ]
    }
   ],
   "source": [
    "print('Sample_1')\n",
    "mat_desc(sample_1)\n",
    "print('\\nSample_2')\n",
    "mat_desc(sample_2)\n",
    "print('\\nSample_3')\n",
    "mat_desc(sample_3)\n",
    "print('\\nSample_4')\n",
    "mat_desc(sample_4)\n",
    "print('\\nSample_5')\n",
    "mat_desc(sample_5)"
   ]
  },
  {
   "cell_type": "markdown",
   "metadata": {},
   "source": [
    "### Task 2"
   ]
  },
  {
   "cell_type": "markdown",
   "metadata": {},
   "source": [
    "Create a function named `mat_operations()` that takes in two matrices or scalars a input parameters it should:<br>\n",
    " 1. Display the description of each matrix, if the parameter is a scalar it tells that it is a scalar rather than describing it as a matrix.\n",
    " 2. Determines if the matrices are viable for operation and returns your own error message if they are not viable.\n",
    " 3. Returns the sum of the matrices.\n",
    " 4. Returns the differen of the matrices.\n",
    " 5. Returns the element-wise multiplication of the matrices.\n",
    " 6. Returns the element-wise division of the matrices.\n",
    "\n",
    "Use 5 sample matrices in which their shapes are not lower than $(3,3)$.\n",
    "In your methodology, create a flowchart discuss the functions and methods you have done. Present your results in the results section showing the description of each matrix you have declared."
   ]
  },
  {
   "cell_type": "code",
   "execution_count": 10,
   "metadata": {},
   "outputs": [],
   "source": [
    "def mat_operations(matrix_1,matrix_2): # Function of the Matrices\n",
    "    alpha = 10**-10\n",
    "    scalar = np.array([1]) # It is an scalar that has a single element\n",
    "    if matrix_1.ndim and matrix_2.ndim == scalar.ndim: # Condition if the dimension of the both matrix \n",
    "                                                          # are equal to the dimension of scalar\n",
    "        print(f'Scalar: {matrix_1}\\t{matrix_2}') # It display the scalar matrix\n",
    "        if matrix_1.shape == matrix_2.shape: # Condition if both matrix has an equal shape \n",
    "            return False # It returns to the condition\n",
    "        else:\n",
    "            return True\n",
    "    else:\n",
    "        if matrix_1.shape == matrix_2.shape: # Condition if both matrix has an equal shape\n",
    "            print(f'Matrices: \\n{matrix_1}\\n\\n{matrix_2}') # It display the matrices of both matrix\n",
    "            Sum = matrix_1 + matrix_2 # It calculate the sum of both matrix\n",
    "            difference = matrix_1 - matrix_2 # It calculate the difference of both matrix\n",
    "            product = matrix_1 * matrix_2 # It calculate the product of both matrix\n",
    "            quotient = matrix_1 / (matrix_2+alpha) # It calculate the quotient of both matrix\n",
    "            print(\"\\nIt is viable for operation ^_^\") \n",
    "            print(f'\\nSum of matrices: \\n{Sum}') # It display the computed sum\n",
    "            print(f'\\nDifference of matrices: \\n{difference}') # It display the computed difference\n",
    "            print(f'\\nProduct of matrices: \\n{product}') # It display the computed product\n",
    "            print(f'\\nQuotient of matrices: \\n{quotient}') # It display the computed quotient\n",
    "        else:\n",
    "            print(f'Double check the shape of given matrices: \\n{matrix_1}\\n\\n{matrix_2}')"
   ]
  },
  {
   "cell_type": "code",
   "execution_count": 11,
   "metadata": {},
   "outputs": [],
   "source": [
    "sample1 = np.array([\n",
    "    [2,4,8,6],\n",
    "    [7,3,5,1],\n",
    "    [2,1,7,7],\n",
    "    [5,6,8,2]\n",
    "])                         # First sample matrices 4x4 matrix \n",
    "\n",
    "sample2 = np.array([\n",
    "    [1,2,3,4],\n",
    "    [7,3,8,2],\n",
    "    [3,2,6,7],\n",
    "    [5,5,2,2]\n",
    "])                         # Second sample matrices 4x4 matrix\n",
    "\n",
    "sample3 = np.array([\n",
    "    [1,2,3,4],\n",
    "    [7,3,8,2s],\n",
    "    [3,2,6,7]\n",
    "])                         # Third sample matrices 4x3 matrix\n",
    "\n",
    "sample4 = np.array([7])    # Fourth sample matrices \n",
    "\n",
    "sample5 = np.array([9])    # Fifth sample matrices"
   ]
  },
  {
   "cell_type": "code",
   "execution_count": 13,
   "metadata": {},
   "outputs": [
    {
     "name": "stdout",
     "output_type": "stream",
     "text": [
      "Matrices: \n",
      "[[2 4 8 6]\n",
      " [7 3 5 1]\n",
      " [2 1 7 7]\n",
      " [5 6 8 2]]\n",
      "\n",
      "[[1 2 3 4]\n",
      " [7 3 8 2]\n",
      " [3 2 6 7]\n",
      " [5 5 2 2]]\n",
      "\n",
      "It is viable for operation ^_^\n",
      "\n",
      "Sum of matrices: \n",
      "[[ 3  6 11 10]\n",
      " [14  6 13  3]\n",
      " [ 5  3 13 14]\n",
      " [10 11 10  4]]\n",
      "\n",
      "Difference of matrices: \n",
      "[[ 1  2  5  2]\n",
      " [ 0  0 -3 -1]\n",
      " [-1 -1  1  0]\n",
      " [ 0  1  6  0]]\n",
      "\n",
      "Product of matrices: \n",
      "[[ 2  8 24 24]\n",
      " [49  9 40  2]\n",
      " [ 6  2 42 49]\n",
      " [25 30 16  4]]\n",
      "\n",
      "Quotient of matrices: \n",
      "[[2.         2.         2.66666667 1.5       ]\n",
      " [1.         1.         0.625      0.5       ]\n",
      " [0.66666667 0.5        1.16666667 1.        ]\n",
      " [1.         1.2        4.         1.        ]]\n"
     ]
    }
   ],
   "source": [
    "mat_operations(sample1,sample2) # It display the matrices\n",
    "mat_operations(sample4,sample5) # It display the scalar"
   ]
  },
  {
   "cell_type": "markdown",
   "metadata": {},
   "source": [
    "## Conclusion"
   ]
  },
  {
   "cell_type": "markdown",
   "metadata": {},
   "source": [
    "For your conclusion synthesize the concept and application of the laboratory. Briefly discuss what you have learned and achieved in this activity. Also answer the question: \"how can matrix operations solve problems in agriculture?\"."
   ]
  }
 ],
 "metadata": {
  "kernelspec": {
   "display_name": "Python 3",
   "language": "python",
   "name": "python3"
  },
  "language_info": {
   "codemirror_mode": {
    "name": "ipython",
    "version": 3
   },
   "file_extension": ".py",
   "mimetype": "text/x-python",
   "name": "python",
   "nbconvert_exporter": "python",
   "pygments_lexer": "ipython3",
   "version": "3.8.3"
  }
 },
 "nbformat": 4,
 "nbformat_minor": 4
}
