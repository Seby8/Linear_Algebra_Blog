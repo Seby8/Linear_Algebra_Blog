{
 "cells": [
  {
   "cell_type": "markdown",
   "metadata": {},
   "source": [
    "<h3>Midterms Project"
   ]
  },
  {
   "cell_type": "markdown",
   "metadata": {},
   "source": [
    "Coded and submitted by:<br>\n",
    "<i>Zarraga, Sebastian Cale M.<br>\n",
    "    201913764 <br>\n",
    "   58010 </i>"
   ]
  },
  {
   "cell_type": "markdown",
   "metadata": {},
   "source": [
    "Directions\n",
    "This Jupyter Notebook will serve as your base code for your Midterm Project. You must further format and provide complete discussion on the given topic. \n",
    "- Provide all necessary explanations for specific code blocks. \n",
    "- Provide illustrations for key results.\n",
    "- Observe clean code (intuitive variable names, proper commenting, proper code spacing)\n",
    "- Provide a summary discussion at the end\n",
    "\n",
    "Failure to use this format or failure to update the document will be given a deduction equivalent to 50% of the original score. "
   ]
  },
  {
   "cell_type": "markdown",
   "metadata": {},
   "source": [
    "### Case"
   ]
  },
  {
   "cell_type": "markdown",
   "metadata": {},
   "source": [
    "Bebang is back to consult you about her business. Furthering her data analytics initiative she asks you for help to compute some relevant data. Now she is asking you to compute and visualize her sales and costs for the past year. She has given you the datasets attached to her request."
   ]
  },
  {
   "cell_type": "markdown",
   "metadata": {},
   "source": [
    "### Problem"
   ]
  },
  {
   "cell_type": "markdown",
   "metadata": {},
   "source": [
    "State and explain Bebang's problem here and provide the deliverables."
   ]
  },
  {
   "cell_type": "markdown",
   "metadata": {},
   "source": [
    "- What are Bebang's monthly revenues, costs, and profits?\n",
    "\n",
    "- How much profit did Bebang get for each flavor? And which are the top 3 and bottom 3 flavors?\n",
    "\n",
    "- Is there anything Bebang could improve on marketing or advertising? Bebang know there are big dips in the sales so she want to know what she could do."
   ]
  },
  {
   "cell_type": "markdown",
   "metadata": {},
   "source": [
    "# Proof of Concept"
   ]
  },
  {
   "cell_type": "markdown",
   "metadata": {},
   "source": [
    "Now that you have a grasp on the requirements we need to start with making a program to prove that her problem is solvable. As a Linear Algebra student, we will be focusin on applying vector operations to meet her needs. First, we need to import her data. We will use the `pandas` library for this. For more information you can look into their documentation [here](https://pandas.pydata.org/)."
   ]
  },
  {
   "cell_type": "code",
   "execution_count": 4,
   "metadata": {},
   "outputs": [
    {
     "data": {
      "text/html": [
       "<div>\n",
       "<style scoped>\n",
       "    .dataframe tbody tr th:only-of-type {\n",
       "        vertical-align: middle;\n",
       "    }\n",
       "\n",
       "    .dataframe tbody tr th {\n",
       "        vertical-align: top;\n",
       "    }\n",
       "\n",
       "    .dataframe thead th {\n",
       "        text-align: right;\n",
       "    }\n",
       "</style>\n",
       "<table border=\"1\" class=\"dataframe\">\n",
       "  <thead>\n",
       "    <tr style=\"text-align: right;\">\n",
       "      <th></th>\n",
       "      <th>red velvet</th>\n",
       "      <th>oreo</th>\n",
       "      <th>sugar glazed</th>\n",
       "      <th>almond honey</th>\n",
       "      <th>matcha</th>\n",
       "      <th>strawberry cream</th>\n",
       "      <th>brown sugar boba</th>\n",
       "      <th>furits and nuts</th>\n",
       "      <th>dark chocolate</th>\n",
       "      <th>chocolate and orange</th>\n",
       "      <th>choco mint</th>\n",
       "      <th>choco butter naught</th>\n",
       "    </tr>\n",
       "  </thead>\n",
       "  <tbody>\n",
       "    <tr>\n",
       "      <th>price per piece</th>\n",
       "      <td>35</td>\n",
       "      <td>25</td>\n",
       "      <td>20</td>\n",
       "      <td>35</td>\n",
       "      <td>50</td>\n",
       "      <td>40</td>\n",
       "      <td>40</td>\n",
       "      <td>45</td>\n",
       "      <td>30</td>\n",
       "      <td>40</td>\n",
       "      <td>45</td>\n",
       "      <td>45</td>\n",
       "    </tr>\n",
       "    <tr>\n",
       "      <th>cost per piece</th>\n",
       "      <td>25</td>\n",
       "      <td>15</td>\n",
       "      <td>10</td>\n",
       "      <td>20</td>\n",
       "      <td>35</td>\n",
       "      <td>31</td>\n",
       "      <td>30</td>\n",
       "      <td>25</td>\n",
       "      <td>15</td>\n",
       "      <td>25</td>\n",
       "      <td>32</td>\n",
       "      <td>31</td>\n",
       "    </tr>\n",
       "  </tbody>\n",
       "</table>\n",
       "</div>"
      ],
      "text/plain": [
       "                 red velvet  oreo  sugar glazed  almond honey  matcha  \\\n",
       "price per piece          35    25            20            35      50   \n",
       "cost per piece           25    15            10            20      35   \n",
       "\n",
       "                 strawberry cream  brown sugar boba  furits and nuts  \\\n",
       "price per piece                40                40               45   \n",
       "cost per piece                 31                30               25   \n",
       "\n",
       "                 dark chocolate  chocolate and orange  choco mint  \\\n",
       "price per piece              30                    40          45   \n",
       "cost per piece               15                    25          32   \n",
       "\n",
       "                 choco butter naught  \n",
       "price per piece                   45  \n",
       "cost per piece                    31  "
      ]
     },
     "execution_count": 4,
     "metadata": {},
     "output_type": "execute_result"
    }
   ],
   "source": [
    "import pandas as pd # It import the library of pandas\n",
    "\n",
    "file_prices = \"bebang prices.csv\" # It collect the prices of bebang's donut\n",
    "file_sales = \"bebang sales.csv\" # It collect the sales of bebang's donut\n",
    "\n",
    "df_prices = pd.read_csv(file_prices, index_col=0) # It read the data file of the prices \n",
    "df_sales = pd.read_csv(file_sales) # It read the data file of the sales\n",
    "\n",
    "## Let's check what's in df_prices\n",
    "df_prices"
   ]
  },
  {
   "cell_type": "code",
   "execution_count": 5,
   "metadata": {},
   "outputs": [
    {
     "data": {
      "text/html": [
       "<div>\n",
       "<style scoped>\n",
       "    .dataframe tbody tr th:only-of-type {\n",
       "        vertical-align: middle;\n",
       "    }\n",
       "\n",
       "    .dataframe tbody tr th {\n",
       "        vertical-align: top;\n",
       "    }\n",
       "\n",
       "    .dataframe thead th {\n",
       "        text-align: right;\n",
       "    }\n",
       "</style>\n",
       "<table border=\"1\" class=\"dataframe\">\n",
       "  <thead>\n",
       "    <tr style=\"text-align: right;\">\n",
       "      <th></th>\n",
       "      <th>flavor</th>\n",
       "      <th>january</th>\n",
       "      <th>february</th>\n",
       "      <th>march</th>\n",
       "      <th>april</th>\n",
       "      <th>may</th>\n",
       "      <th>june</th>\n",
       "      <th>july</th>\n",
       "      <th>august</th>\n",
       "      <th>september</th>\n",
       "      <th>october</th>\n",
       "      <th>november</th>\n",
       "      <th>december</th>\n",
       "    </tr>\n",
       "  </thead>\n",
       "  <tbody>\n",
       "    <tr>\n",
       "      <th>0</th>\n",
       "      <td>red velvet</td>\n",
       "      <td>781</td>\n",
       "      <td>524</td>\n",
       "      <td>364</td>\n",
       "      <td>157</td>\n",
       "      <td>894</td>\n",
       "      <td>56</td>\n",
       "      <td>89</td>\n",
       "      <td>41</td>\n",
       "      <td>23</td>\n",
       "      <td>78</td>\n",
       "      <td>231</td>\n",
       "      <td>899</td>\n",
       "    </tr>\n",
       "    <tr>\n",
       "      <th>1</th>\n",
       "      <td>oreo</td>\n",
       "      <td>210</td>\n",
       "      <td>324</td>\n",
       "      <td>344</td>\n",
       "      <td>32</td>\n",
       "      <td>123</td>\n",
       "      <td>1</td>\n",
       "      <td>3</td>\n",
       "      <td>0</td>\n",
       "      <td>1</td>\n",
       "      <td>6</td>\n",
       "      <td>312</td>\n",
       "      <td>548</td>\n",
       "    </tr>\n",
       "    <tr>\n",
       "      <th>2</th>\n",
       "      <td>sugar glazed</td>\n",
       "      <td>599</td>\n",
       "      <td>674</td>\n",
       "      <td>854</td>\n",
       "      <td>14</td>\n",
       "      <td>467</td>\n",
       "      <td>78</td>\n",
       "      <td>36</td>\n",
       "      <td>48</td>\n",
       "      <td>75</td>\n",
       "      <td>98</td>\n",
       "      <td>781</td>\n",
       "      <td>1602</td>\n",
       "    </tr>\n",
       "    <tr>\n",
       "      <th>3</th>\n",
       "      <td>almond honey</td>\n",
       "      <td>124</td>\n",
       "      <td>112</td>\n",
       "      <td>114</td>\n",
       "      <td>23</td>\n",
       "      <td>198</td>\n",
       "      <td>12</td>\n",
       "      <td>32</td>\n",
       "      <td>41</td>\n",
       "      <td>23</td>\n",
       "      <td>36</td>\n",
       "      <td>300</td>\n",
       "      <td>566</td>\n",
       "    </tr>\n",
       "    <tr>\n",
       "      <th>4</th>\n",
       "      <td>matcha</td>\n",
       "      <td>645</td>\n",
       "      <td>498</td>\n",
       "      <td>885</td>\n",
       "      <td>98</td>\n",
       "      <td>177</td>\n",
       "      <td>98</td>\n",
       "      <td>43</td>\n",
       "      <td>96</td>\n",
       "      <td>26</td>\n",
       "      <td>71</td>\n",
       "      <td>549</td>\n",
       "      <td>897</td>\n",
       "    </tr>\n",
       "    <tr>\n",
       "      <th>5</th>\n",
       "      <td>strawberry cream</td>\n",
       "      <td>210</td>\n",
       "      <td>372</td>\n",
       "      <td>369</td>\n",
       "      <td>78</td>\n",
       "      <td>163</td>\n",
       "      <td>26</td>\n",
       "      <td>45</td>\n",
       "      <td>22</td>\n",
       "      <td>54</td>\n",
       "      <td>41</td>\n",
       "      <td>207</td>\n",
       "      <td>456</td>\n",
       "    </tr>\n",
       "    <tr>\n",
       "      <th>6</th>\n",
       "      <td>brown sugar boba</td>\n",
       "      <td>981</td>\n",
       "      <td>380</td>\n",
       "      <td>154</td>\n",
       "      <td>14</td>\n",
       "      <td>147</td>\n",
       "      <td>15</td>\n",
       "      <td>98</td>\n",
       "      <td>33</td>\n",
       "      <td>23</td>\n",
       "      <td>36</td>\n",
       "      <td>552</td>\n",
       "      <td>633</td>\n",
       "    </tr>\n",
       "    <tr>\n",
       "      <th>7</th>\n",
       "      <td>furits and nuts</td>\n",
       "      <td>478</td>\n",
       "      <td>462</td>\n",
       "      <td>354</td>\n",
       "      <td>49</td>\n",
       "      <td>89</td>\n",
       "      <td>0</td>\n",
       "      <td>1</td>\n",
       "      <td>0</td>\n",
       "      <td>1</td>\n",
       "      <td>8</td>\n",
       "      <td>335</td>\n",
       "      <td>214</td>\n",
       "    </tr>\n",
       "    <tr>\n",
       "      <th>8</th>\n",
       "      <td>dark chocolate</td>\n",
       "      <td>598</td>\n",
       "      <td>203</td>\n",
       "      <td>36</td>\n",
       "      <td>96</td>\n",
       "      <td>789</td>\n",
       "      <td>4</td>\n",
       "      <td>5</td>\n",
       "      <td>0</td>\n",
       "      <td>8</td>\n",
       "      <td>0</td>\n",
       "      <td>789</td>\n",
       "      <td>458</td>\n",
       "    </tr>\n",
       "    <tr>\n",
       "      <th>9</th>\n",
       "      <td>chocolate and orange</td>\n",
       "      <td>324</td>\n",
       "      <td>123</td>\n",
       "      <td>48</td>\n",
       "      <td>32</td>\n",
       "      <td>65</td>\n",
       "      <td>74</td>\n",
       "      <td>78</td>\n",
       "      <td>45</td>\n",
       "      <td>89</td>\n",
       "      <td>100</td>\n",
       "      <td>632</td>\n",
       "      <td>231</td>\n",
       "    </tr>\n",
       "    <tr>\n",
       "      <th>10</th>\n",
       "      <td>choco mint</td>\n",
       "      <td>458</td>\n",
       "      <td>412</td>\n",
       "      <td>78</td>\n",
       "      <td>78</td>\n",
       "      <td>78</td>\n",
       "      <td>7</td>\n",
       "      <td>3</td>\n",
       "      <td>8</td>\n",
       "      <td>2</td>\n",
       "      <td>1</td>\n",
       "      <td>323</td>\n",
       "      <td>564</td>\n",
       "    </tr>\n",
       "    <tr>\n",
       "      <th>11</th>\n",
       "      <td>choco butter naught</td>\n",
       "      <td>778</td>\n",
       "      <td>586</td>\n",
       "      <td>645</td>\n",
       "      <td>100</td>\n",
       "      <td>987</td>\n",
       "      <td>63</td>\n",
       "      <td>36</td>\n",
       "      <td>89</td>\n",
       "      <td>78</td>\n",
       "      <td>99</td>\n",
       "      <td>784</td>\n",
       "      <td>2310</td>\n",
       "    </tr>\n",
       "  </tbody>\n",
       "</table>\n",
       "</div>"
      ],
      "text/plain": [
       "                  flavor  january  february  march  april  may  june  july  \\\n",
       "0             red velvet      781       524    364    157  894    56    89   \n",
       "1                   oreo      210       324    344     32  123     1     3   \n",
       "2           sugar glazed      599       674    854     14  467    78    36   \n",
       "3           almond honey      124       112    114     23  198    12    32   \n",
       "4                 matcha      645       498    885     98  177    98    43   \n",
       "5       strawberry cream      210       372    369     78  163    26    45   \n",
       "6       brown sugar boba      981       380    154     14  147    15    98   \n",
       "7        furits and nuts      478       462    354     49   89     0     1   \n",
       "8         dark chocolate      598       203     36     96  789     4     5   \n",
       "9   chocolate and orange      324       123     48     32   65    74    78   \n",
       "10            choco mint      458       412     78     78   78     7     3   \n",
       "11   choco butter naught      778       586    645    100  987    63    36   \n",
       "\n",
       "    august  september  october  november  december  \n",
       "0       41         23       78       231       899  \n",
       "1        0          1        6       312       548  \n",
       "2       48         75       98       781      1602  \n",
       "3       41         23       36       300       566  \n",
       "4       96         26       71       549       897  \n",
       "5       22         54       41       207       456  \n",
       "6       33         23       36       552       633  \n",
       "7        0          1        8       335       214  \n",
       "8        0          8        0       789       458  \n",
       "9       45         89      100       632       231  \n",
       "10       8          2        1       323       564  \n",
       "11      89         78       99       784      2310  "
      ]
     },
     "execution_count": 5,
     "metadata": {},
     "output_type": "execute_result"
    }
   ],
   "source": [
    "## Let's check the sales dataframe\n",
    "df_sales"
   ]
  },
  {
   "cell_type": "markdown",
   "metadata": {},
   "source": [
    "## Part 1: Monthly Sales"
   ]
  },
  {
   "cell_type": "code",
   "execution_count": 6,
   "metadata": {},
   "outputs": [
    {
     "name": "stdout",
     "output_type": "stream",
     "text": [
      "(12, 12)\n",
      "(12, 1)\n",
      "(12, 1)\n"
     ]
    }
   ],
   "source": [
    "import numpy as np # It import the library of Numpy\n",
    "### Vectorizing the data\n",
    "\n",
    "sales_mat = np.array(df_sales.set_index('flavor')) # It get the index of flavors in df_sales \n",
    "prices_mat = np.array(df_prices)[0].reshape(12,1) # The vector was been reshaped to (12,1)\n",
    "costs_mat = np.array(df_prices)[1].reshape(12,1) # The vector was been reshaped to (12,1)\n",
    "\n",
    "## Do not alter these lines\n",
    "print(sales_mat.shape) # It print the shape of sales_mat\n",
    "print(prices_mat.shape) # It print the shape of prices_mat\n",
    "print(costs_mat.shape) # It print the shape of costs_mat\n",
    "# Expected Output\n",
    "# (12, 12)\n",
    "# (12, 1)\n",
    "# (12, 1)"
   ]
  },
  {
   "cell_type": "markdown",
   "metadata": {},
   "source": [
    "#### Formulas"
   ]
  },
  {
   "cell_type": "markdown",
   "metadata": {},
   "source": [
    "Take note that the fomula for revenue is: <br>\n",
    "$revenue = sales * price $ <br>\n",
    "In this case, think that revenue, sales, and price are vectors instead of individual values <br>\n",
    "The formula of cost per item sold is: <br>\n",
    "$cost_{sold} = sales * cost$ <br>\n",
    "The formula for profit is: <br>\n",
    "$profit = revenue - cost_{sold}$ <br>\n",
    "Solving for the monthly profit will be the sum of all profits made on that month."
   ]
  },
  {
   "cell_type": "code",
   "execution_count": 7,
   "metadata": {},
   "outputs": [],
   "source": [
    "#Create a function that *returns* and prints the monthly sales and profit for each month \n",
    "def monthly_sales(price, cost, sales): # Function of the monthly sales\n",
    "    monthly_revenue = (sales*price).sum(axis=0) # It calculate the monthly revenue and find the sum of each month \n",
    "    monthly_costs = (sales*cost).sum(axis=0) # It calculate the monthly costs and find the sum of each month \n",
    "    monthly_profits = monthly_revenue - monthly_costs # It calculate the monthly profit by subtracting  \n",
    "                                                      # the monthly revenue and the monthly costs\n",
    "    # It returns the value of month_rev, month_cost, month_profit \n",
    "    return monthly_revenue.flatten(), monthly_costs.flatten(), monthly_profits.flatten()"
   ]
  },
  {
   "cell_type": "code",
   "execution_count": 8,
   "metadata": {},
   "outputs": [
    {
     "name": "stdout",
     "output_type": "stream",
     "text": [
      "           Monthly Revenue  Monthly Costs  Monthly Profit\n",
      "January             236825         157454           79371\n",
      "February            175530         116322           59208\n",
      "March               159045         105195           53850\n",
      "April                30335          20334           10001\n",
      "May                 150085          97261           52824\n",
      "June                 16735          11208            5527\n",
      "July                 17970          12372            5598\n",
      "August               16995          11497            5498\n",
      "September            14960           9926            5034\n",
      "October              21590          14377            7213\n",
      "November            213655         137107           76548\n",
      "December            347365         230209          117156\n"
     ]
    }
   ],
   "source": [
    "# It provide the value for the given function\n",
    "month_rev, month_cost, month_profit = monthly_sales(prices_mat, costs_mat, sales_mat)\n",
    "\n",
    "# List of months\n",
    "months = ['January','February','March','April',\n",
    "          'May','June','July','August','September',\n",
    "          'October','November','December']\n",
    "\n",
    "# It gather all of the values of the month_rev, month_cost, and month_profit \n",
    "monthly_value = {'Monthly Revenue':month_rev,'Monthly Costs':month_cost,'Monthly Profit':month_profit}\n",
    "\n",
    "# Using the DataFrame of pandas the index parameter assigns an index to each row.\n",
    "monthly_report = pd.DataFrame(monthly_value, index = months)\n",
    "\n",
    "print(monthly_report) # print the values"
   ]
  },
  {
   "cell_type": "markdown",
   "metadata": {},
   "source": [
    "## Part 2: Flavor Sales"
   ]
  },
  {
   "cell_type": "code",
   "execution_count": 9,
   "metadata": {},
   "outputs": [],
   "source": [
    "#Create a function that *returns* and prints the flavor profits for the whole year \n",
    "def flavor_sales(price, cost, sales): # Function of the flavor sales\n",
    "    flavor_revenue =  (sales*price).sum(axis=1) # It calculate the flavors revenue and find the sum of each flavor\n",
    "    flavor_costs = (sales*cost).sum(axis=1) # It calculate the flavors costs and find the sum of each flavor\n",
    "    flavor_profits = flavor_revenue - flavor_costs # It calculate the flavors profit by subtracting  \n",
    "                                                   # the flavors revenue and the flavors costs  \n",
    "    return flavor_profits.flatten( )# It returns the value of flavors profit"
   ]
  },
  {
   "cell_type": "code",
   "execution_count": 10,
   "metadata": {},
   "outputs": [
    {
     "name": "stdout",
     "output_type": "stream",
     "text": [
      "                  Flavors  Profit for the whole year\n",
      "1.             Red velvet                      41370\n",
      "2.                   Oreo                      19040\n",
      "3.           Sugar glazed                      53260\n",
      "4.           Almond honey                      23715\n",
      "5.                 Matcha                      61245\n",
      "6.       Strawberry cream                      18387\n",
      "7.       Brown sugar boba                      30660\n",
      "8.        Fruits and nuts                      39820\n",
      "9.         Dark chocolate                      44790\n",
      "10.  Chocolate and orange                      27615\n",
      "11.            Choco mint                      26156\n",
      "12.   Choco butter naught                      91770\n"
     ]
    }
   ],
   "source": [
    "# It provide the value for the given function\n",
    "flavor_profit = flavor_sales(prices_mat, costs_mat, sales_mat)\n",
    "\n",
    "# List of numbers\n",
    "num = ['1.','2.','3.','4.',\n",
    "       '5.','6.','7.','8.',\n",
    "       '9.','10.','11.','12.']\n",
    "\n",
    "# It gather all of the flavors and the values of the flavors profit \n",
    "flavor_value = {'Flavors' :['Red velvet','Oreo','Sugar glazed','Almond honey','Matcha',\n",
    "                           'Strawberry cream','Brown sugar boba','Fruits and nuts',\n",
    "                           'Dark chocolate', 'Chocolate and orange','Choco mint',\n",
    "                           'Choco butter naught'],\n",
    "                'Profit for the whole year' :flavor_profit}\n",
    "\n",
    "# Using the DataFrame of pandas the index parameter assigns an index to each row.\n",
    "flavor_report = pd.DataFrame(flavor_value, index = num)\n",
    "\n",
    "print(flavor_report) # print the values"
   ]
  },
  {
   "cell_type": "code",
   "execution_count": 15,
   "metadata": {},
   "outputs": [
    {
     "name": "stdout",
     "output_type": "stream",
     "text": [
      "        Best selling flavors  Profit Least selling flavors  profit\n",
      "Rank 1  Choco butter naught:   91770     Strawberry cream:   18387\n",
      "Rank 2               Matcha:   61245                 Oreo:   19040\n",
      "Rank 3         Sugar glazed:   53260         Almond honey:   23715\n"
     ]
    }
   ],
   "source": [
    "### identify the best-selling and least-selling flavors. You can use np.sort() or np.argmax() for this.\n",
    "best_3_flavors = np.sort(flavor_profit)[::-1] # It sort the values and reverse it to highest to lowest\n",
    "worst_3_flavors = np.sort(flavor_profit) # It sort the values to lowest to highest\n",
    "\n",
    "# list of ranks\n",
    "rank = ['Rank 1','Rank 2','Rank 3']\n",
    "\n",
    "# It gather all of the top 3 best and least selling flavor with their value\n",
    "best_and_worst_selling_flavor = {'Best selling flavors' :['Choco butter naught:','Matcha:','Sugar glazed:'],\n",
    "                                 'Profit':[best_3_flavors[0],best_3_flavors[1],best_3_flavors[2]],\n",
    "                                 'Least selling flavors' :['Strawberry cream:','Oreo:','Almond honey:'],\n",
    "                                 'profit':[worst_3_flavors[0],worst_3_flavors[1],worst_3_flavors[2]]}\n",
    "\n",
    "# Using the DataFrame of pandas the index parameter assigns an index to each row.\n",
    "best_and_worst_selling_report = pd.DataFrame(best_and_worst_selling_flavor, index = rank)\n",
    "\n",
    "print(best_and_worst_selling_report) # print the values"
   ]
  },
  {
   "cell_type": "markdown",
   "metadata": {},
   "source": [
    "## Part 3: Visualizing the Data (Optional for +40%)\n",
    "You can try to visualize the data in the most comprehensible chart that you can use."
   ]
  },
  {
   "cell_type": "code",
   "execution_count": 8,
   "metadata": {},
   "outputs": [],
   "source": [
    "# It import the library of matplotlib and seaborn to visualize the data\n",
    "import matplotlib.pyplot as plt\n",
    "import matplotlib\n",
    "import seaborn as sns\n",
    "\n",
    "%matplotlib inline"
   ]
  },
  {
   "cell_type": "markdown",
   "metadata": {},
   "source": [
    "#### Entire Dataset"
   ]
  },
  {
   "cell_type": "code",
   "execution_count": 105,
   "metadata": {},
   "outputs": [
    {
     "data": {
      "text/plain": [
       "<matplotlib.axes._subplots.AxesSubplot at 0x14153958>"
      ]
     },
     "execution_count": 105,
     "metadata": {},
     "output_type": "execute_result"
    },
    {
     "data": {
      "image/png": "[encoded data removed]",
      "text/plain": [
       "<Figure size 1080x504 with 1 Axes>"
      ]
     },
     "metadata": {
      "needs_background": "light"
     },
     "output_type": "display_data"
    }
   ],
   "source": [
    "# List of colors\n",
    "colors = ['gold','lime','khaki','maroon',\n",
    "          'blue','green','red','orange','brown',\n",
    "          'darkblue','lightblue','purple']\n",
    "\n",
    "# It plot the sales of the flavors each month based on the given value in bebang's data\n",
    "df_sales.plot(x='flavor',kind='bar',figsize=(15,7), color = colors) "
   ]
  },
  {
   "cell_type": "markdown",
   "metadata": {},
   "source": [
    "#### Monthly Sales"
   ]
  },
  {
   "cell_type": "code",
   "execution_count": 89,
   "metadata": {},
   "outputs": [
    {
     "data": {
      "image/png": "[encoded data removed]",
      "text/plain": [
       "<Figure size 432x288 with 1 Axes>"
      ]
     },
     "metadata": {
      "needs_background": "light"
     },
     "output_type": "display_data"
    }
   ],
   "source": [
    "# Using seabron barplot it display the rating of the revenue each month \n",
    "# The x-axis present the value of monthly revenue and for the y-axis is the months\n",
    "sns.barplot(x = \"Monthly Revenue\", y = months, data = monthly_report)\n",
    "plt.show()"
   ]
  },
  {
   "cell_type": "code",
   "execution_count": 106,
   "metadata": {},
   "outputs": [
    {
     "data": {
      "image/png": "[encoded data removed]",
      "text/plain": [
       "<Figure size 432x288 with 1 Axes>"
      ]
     },
     "metadata": {
      "needs_background": "light"
     },
     "output_type": "display_data"
    }
   ],
   "source": [
    "# Using seabron barplot it display the rating of the costs each month\n",
    "# The x-axis present the value of monthly costs and for the y-axis is the months\n",
    "sns.barplot(x = \"Monthly Costs\", y = months , data = monthly_report)\n",
    "plt.show()"
   ]
  },
  {
   "cell_type": "code",
   "execution_count": 91,
   "metadata": {},
   "outputs": [
    {
     "data": {
      "image/png": "[encoded data removed]",
      "text/plain": [
       "<Figure size 432x288 with 1 Axes>"
      ]
     },
     "metadata": {
      "needs_background": "light"
     },
     "output_type": "display_data"
    }
   ],
   "source": [
    "# Using seabron barplot it display the rating of the profit each month\n",
    "# The x-axis present the value of monthly profit and for the y-axis is the months\n",
    "sns.barplot(x = 'Monthly Profit', y = months , data = monthly_report)\n",
    "plt.show()"
   ]
  },
  {
   "cell_type": "markdown",
   "metadata": {},
   "source": [
    "#### Flavor Sales"
   ]
  },
  {
   "cell_type": "code",
   "execution_count": 71,
   "metadata": {},
   "outputs": [
    {
     "data": {
      "image/png": "[encoded data removed]",
      "text/plain": [
       "<Figure size 432x288 with 1 Axes>"
      ]
     },
     "metadata": {
      "needs_background": "light"
     },
     "output_type": "display_data"
    }
   ],
   "source": [
    "# Using seabron barplot it display the rating of the profit each flavor of the donut\n",
    "# The x-axis present the value of flavors profit and for the y-axis is the flavors\n",
    "sns.barplot(x = 'Profit', y = 'Flavors' , data = flavor_report)\n",
    "plt.show()"
   ]
  },
  {
   "cell_type": "markdown",
   "metadata": {},
   "source": [
    "## Part 4: Business Recommendation and Conclusion\n",
    "Present the findings of your data analysis and provide recommendations"
   ]
  },
  {
   "cell_type": "markdown",
   "metadata": {},
   "source": [
    "Good Day Ms. Bebang, thank you for relying on me again for the data analysis of your business. As you could see in the data visualization of the Entire Dataset most of the flavors of the donut has a higher rating when it’s the month of December and it has a lower rating when it’s the month of June until October, the rest of the months have the average rating each flavor of the donut. Next is the data visualization of the monthly sales it shows that the monthly revenue, costs, and profit that the business get have a high rating when it’s the month of December, and the lowest rating is the month of June until October. We could see that most of the highest rating in months is always December it’s because most people like to eat dessert especially donuts for the Christmas celebration and the lowest rating of the month starts from June until October because people rarely buy a donut. The final data visualization is flavor sales it shows that the highest rating of the flavor donut is the choco butter naught and the lowest rating flavor donut is the strawberry cream. In the data of the most selling flavors of the donut is the choco butter naught, matcha, and sugar-glazed for the few selling flavors of the donut is the strawberry cream, oreo, and almond honey."
   ]
  },
  {
   "cell_type": "markdown",
   "metadata": {},
   "source": [
    "The things that I could recommend for the improvement of the business is to have a survey to the customers and have a rating what are their favorite flavors of the donuts that they buy and what are the flavors of the donuts that they rarely buy also ask them if they want to add a new flavor of the donut so that the business can replace the other flavors that have a lower rating. The business can also add a brewed coffee because it’s the best combination and most people like to have a coffee while eating a donut. If the business wants to earn more they could build other branches like near a police station, call center office, and other places where people like to eat a donut."
   ]
  }
 ],
 "metadata": {
  "kernelspec": {
   "display_name": "Python 3",
   "language": "python",
   "name": "python3"
  },
  "language_info": {
   "codemirror_mode": {
    "name": "ipython",
    "version": 3
   },
   "file_extension": ".py",
   "mimetype": "text/x-python",
   "name": "python",
   "nbconvert_exporter": "python",
   "pygments_lexer": "ipython3",
   "version": "3.8.3"
  }
 },
 "nbformat": 4,
 "nbformat_minor": 4
}
